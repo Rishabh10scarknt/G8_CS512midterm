{
 "cells": [
  {
   "cell_type": "code",
   "execution_count": 36,
   "id": "3d7f3850-3713-409b-9126-cd87fa6efa31",
   "metadata": {},
   "outputs": [],
   "source": [
    "import numpy as np\n",
    "import random"
   ]
  },
  {
   "cell_type": "code",
   "execution_count": 38,
   "id": "b7a76228-3b27-44d8-b649-7f09ae3b88d5",
   "metadata": {},
   "outputs": [],
   "source": [
    "with open(\"Input-1.txt\",\"r\") as f:\n",
    "    a = f.readlines()"
   ]
  },
  {
   "cell_type": "code",
   "execution_count": 40,
   "id": "c2263494-6db4-4202-8af8-f62dc8aac95c",
   "metadata": {},
   "outputs": [],
   "source": [
    "with open(\"Input-2.txt\",\"r\") as g:\n",
    "    b = g.readlines()"
   ]
  },
  {
   "cell_type": "code",
   "execution_count": 42,
   "id": "6f43cc7c-1d51-4f10-a762-64df8edc1c45",
   "metadata": {},
   "outputs": [],
   "source": [
    "with open(\"Input-3.txt\",\"r\") as h:\n",
    "    c = h.readlines()"
   ]
  },
  {
   "cell_type": "code",
   "execution_count": 58,
   "id": "0b748909-89e1-4861-a883-bfe40bc216e0",
   "metadata": {},
   "outputs": [
    {
     "name": "stdout",
     "output_type": "stream",
     "text": [
      "1000000010010010111100010010110001111111000000010001001010010011100110100110110000100111001100001011111100111010101100010011101000110011100001100110000000011100110010100010111010101101011110010011100000000101001100001011010100011111010011100000011011010011\n"
     ]
    }
   ],
   "source": [
    "print(a[0][2:])\n",
    "a_int = int(a[0][2:],2)"
   ]
  },
  {
   "cell_type": "code",
   "execution_count": 60,
   "id": "1e886cb3-52bf-424e-913c-b987600fbad7",
   "metadata": {},
   "outputs": [
    {
     "name": "stdout",
     "output_type": "stream",
     "text": [
      "58155668810598073973856849477247599638779391943543553799055421370452606322387\n"
     ]
    }
   ],
   "source": [
    "print(a_int)"
   ]
  },
  {
   "cell_type": "code",
   "execution_count": 64,
   "id": "b6b982fd-f09b-41fa-b60d-f280ccc9f80a",
   "metadata": {},
   "outputs": [
    {
     "name": "stdout",
     "output_type": "stream",
     "text": [
      "1110100011100001111101010010101101001011010110101001101001101100001010101011011010011011000110111110010101111111001110110000001110101010101100001000010000000101000000000001011101001111101100101001000001011101111111110001100000101001101100001001011011001011\n",
      "105335813555961302827487526405609711129251661533280174644164486231952465106635\n"
     ]
    }
   ],
   "source": [
    "print(b[0][2:])\n",
    "b_init = int(b[0][2:],2)\n",
    "print(b_init)"
   ]
  },
  {
   "cell_type": "code",
   "execution_count": 66,
   "id": "b07258f8-3cfb-40a3-8e3f-3ab6a7f03597",
   "metadata": {},
   "outputs": [
    {
     "name": "stdout",
     "output_type": "stream",
     "text": [
      "1011000101010011011101110000001011110110101110000011111110100001000001110111111100011111101111001010001100011100110110010000001111100100111110101000011110001110110000101000001000001011100011101011111001011000110010001011011010100011101110010110111111001111\n",
      "80206843893332537260821601048879465722216979163894562692167448343889099452367\n"
     ]
    }
   ],
   "source": [
    "print(c[0][2:])\n",
    "c_init = int(c[0][2:],2)\n",
    "print(c_init)"
   ]
  },
  {
   "cell_type": "markdown",
   "id": "14165500-9d1a-4c3a-9bff-5ccd3ed9b2db",
   "metadata": {},
   "source": [
    "# Miller-Rabin Primality Test"
   ]
  },
  {
   "cell_type": "markdown",
   "id": "73dcf7a8-950d-4b98-b0f1-3fe2215045d4",
   "metadata": {},
   "source": [
    "Miller Rabin primality test is a probabilistic primality test."
   ]
  },
  {
   "cell_type": "markdown",
   "id": "155be49a-d599-4e73-b786-fabfa652f6be",
   "metadata": {},
   "source": [
    " 1) Suppose given an odd integer $n>2$, $(n-1)$ can be written as $(n-1) = 2^{r}.d$, where r is a positive integer and d is a positive odd integer.\n",
    " 2) Generate a random number belonging to $(2,n-2)$.\n",
    " 3) Calculate $ x_{0} = x^{d} (mod(n)) , ....., x_{i} = x_{i-1}^{2}(mod(n))$ at most $r-1$ times ( each subsequent term is a root of the preceding term as $a^{n-1} = a^{2^{r}*d}$)    \n",
    " 4) If $x$ comes out to be either $1$ or $n-1$, return true proceed ahead.\n",
    " 5) Do the following while d (given d computed such that d=r)  doesn't become n-1.\\\n",
    "      a) d*=2\\\r\n",
    "    )b)  x = (x*x) % \\.\r\n",
    "    c) ) If (x == 1) return fals (composite/most probably Charmichaell number)\\e.\r\n",
    "   d) c) If (x == n-1) return tr ( prime number)\\\n",
    "6) A single-step Miller-Rabin Algorithm passes for a Charmichael number with a probability of $1/4$.\n",
    "7) So one needs to iterate over for the probability of Charmichael numbers passing to decrease.\n",
    "8) Time complexity of Miller-Rabin primality test - $k *log^{3}(n)\\$ , where k is number of iationsoue."
   ]
  },
  {
   "cell_type": "code",
   "execution_count": 71,
   "id": "3913db37-ed5c-47db-98da-1c612d12b72a",
   "metadata": {},
   "outputs": [],
   "source": [
    "def power(x,y,p):\n",
    "    \"\"\"Evaluate modular exponentiation x**y mod(p)\"\"\"\n",
    "    res=1\n",
    "    x = x%p \n",
    "    while y>0:\n",
    "        if y & 1:\n",
    "            # check if odd  \n",
    "            res = (res*x)%p\n",
    "        y = y//2\n",
    "        x = (x*x) % p \n",
    "    return res\n"
   ]
  },
  {
   "cell_type": "code",
   "execution_count": 73,
   "id": "aa89509f-bc8c-4105-a405-2ba5e7dba6ec",
   "metadata": {},
   "outputs": [],
   "source": [
    "def millertest(d,n):\n",
    "\n",
    "    a = random.randint(2,n-2)\n",
    "    x = power(a,d,n)\n",
    "    if  (x==1 or x==n-1):\n",
    "        return True\n",
    "\n",
    "    while d != n-1:\n",
    "        # d will already be equal to r before while statement ; such that n-1 = 2**r .d \n",
    "        x = (x*x)%n\n",
    "        d*=2\n",
    "        if (x==1):\n",
    "            return False\n",
    "        if (x==n-1): \n",
    "            return True\n",
    "\n",
    "    return False\n",
    "    "
   ]
  },
  {
   "cell_type": "code",
   "execution_count": 75,
   "id": "8950ab4e-cf09-4306-89f8-6450f1004ae6",
   "metadata": {},
   "outputs": [],
   "source": [
    "def isPrime(n,k):\n",
    "    if (n<=1 or n==4):return False\n",
    "    if (n<=3): return True\n",
    "\n",
    "    d = n-1\n",
    "    while d%2 == 0:\n",
    "        # here d = r ; note n-1 = 2**r . d\n",
    "        d //=2\n",
    "\n",
    "    for _ in range(k):\n",
    "        if not millertest(d,n):\n",
    "            return False\n",
    "\n",
    "    return True"
   ]
  },
  {
   "cell_type": "code",
   "execution_count": 90,
   "id": "78322669-d3e8-4729-9c79-8c45f67dc9ed",
   "metadata": {},
   "outputs": [
    {
     "name": "stdout",
     "output_type": "stream",
     "text": [
      "Is the first input binary number prime (from 1-input.txt)?\n"
     ]
    },
    {
     "data": {
      "text/plain": [
       "True"
      ]
     },
     "execution_count": 90,
     "metadata": {},
     "output_type": "execute_result"
    }
   ],
   "source": [
    "print(\"Is the first input binary number prime (from 1-input.txt)?\")\n",
    "isPrime(a_int,4)"
   ]
  },
  {
   "cell_type": "code",
   "execution_count": 92,
   "id": "b9d5a4fd-299d-4fc1-91bd-068d7858b705",
   "metadata": {},
   "outputs": [
    {
     "name": "stdout",
     "output_type": "stream",
     "text": [
      "Is the second input binary number prime (from 2-input.txt)?\n"
     ]
    },
    {
     "data": {
      "text/plain": [
       "False"
      ]
     },
     "execution_count": 92,
     "metadata": {},
     "output_type": "execute_result"
    }
   ],
   "source": [
    "print(\"Is the second input binary number prime (from 2-input.txt)?\")\n",
    "isPrime(b_init,4)"
   ]
  },
  {
   "cell_type": "code",
   "execution_count": 94,
   "id": "26b21325-f6a7-4ab2-92db-0f2daee633d6",
   "metadata": {},
   "outputs": [
    {
     "name": "stdout",
     "output_type": "stream",
     "text": [
      "Is the third input binary number prime (from 3-input.txt)?\n"
     ]
    },
    {
     "data": {
      "text/plain": [
       "False"
      ]
     },
     "execution_count": 94,
     "metadata": {},
     "output_type": "execute_result"
    }
   ],
   "source": [
    "print(\"Is the third input binary number prime (from 3-input.txt)?\")\n",
    "isPrime(c_init,4)"
   ]
  },
  {
   "cell_type": "code",
   "execution_count": null,
   "id": "21e301cf-9c43-4d36-a010-de53fe60b102",
   "metadata": {},
   "outputs": [],
   "source": []
  },
  {
   "cell_type": "code",
   "execution_count": null,
   "id": "233df8a3-78b6-4349-b13c-6ca2ffc894e5",
   "metadata": {},
   "outputs": [],
   "source": []
  },
  {
   "cell_type": "code",
   "execution_count": null,
   "id": "606953fa-fc3d-4c57-8712-a77bffd61ace",
   "metadata": {},
   "outputs": [],
   "source": []
  }
 ],
 "metadata": {
  "kernelspec": {
   "display_name": "Python 3 (ipykernel)",
   "language": "python",
   "name": "python3"
  },
  "language_info": {
   "codemirror_mode": {
    "name": "ipython",
    "version": 3
   },
   "file_extension": ".py",
   "mimetype": "text/x-python",
   "name": "python",
   "nbconvert_exporter": "python",
   "pygments_lexer": "ipython3",
   "version": "3.12.3"
  }
 },
 "nbformat": 4,
 "nbformat_minor": 5
}
